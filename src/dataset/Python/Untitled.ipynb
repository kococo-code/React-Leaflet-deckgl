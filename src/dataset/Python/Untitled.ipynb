{
 "cells": [
  {
   "cell_type": "code",
   "execution_count": 1,
   "metadata": {},
   "outputs": [
    {
     "name": "stdout",
     "output_type": "stream",
     "text": [
      "1591796439 1592401239\n"
     ]
    }
   ],
   "source": [
    "import requests\n",
    "import json \n",
    "import datetime \n",
    "import math\n",
    "DATE_SCALE = 7\n",
    "\n",
    "def dateChanger(now):\n",
    "    return now - (60*60*24*DATE_SCALE)\n",
    "AIRPORT_IATA = 'RKSI' # InCheon\n",
    "now = math.ceil(datetime.datetime.now().timestamp())\n",
    "past = dateChanger(now)\n",
    "print(past ,now)\n",
    "\n",
    "url = 'https://opensky-network.org/api/flights/departure?airport={AIRPORT}&begin={past}&end={now}'\n",
    ".format(AIRPORT=AIRPORT_IATA,past=past,now=now)\n",
    "req = requests.get(url)"
   ]
  },
  {
   "cell_type": "code",
   "execution_count": 12,
   "metadata": {},
   "outputs": [],
   "source": [
    "route = json.loads(req.text)"
   ]
  },
  {
   "cell_type": "code",
   "execution_count": 17,
   "metadata": {
    "scrolled": true
   },
   "outputs": [
    {
     "data": {
      "text/plain": [
       "{'icao24': 'a96b80',\n",
       " 'firstSeen': 1592254082,\n",
       " 'estDepartureAirport': 'RKSI',\n",
       " 'lastSeen': 1592263950,\n",
       " 'estArrivalAirport': 'VHHH',\n",
       " 'callsign': 'SOO7930 ',\n",
       " 'estDepartureAirportHorizDistance': 4479,\n",
       " 'estDepartureAirportVertDistance': 434,\n",
       " 'estArrivalAirportHorizDistance': 1605,\n",
       " 'estArrivalAirportVertDistance': 0,\n",
       " 'departureAirportCandidatesCount': 0,\n",
       " 'arrivalAirportCandidatesCount': 1}"
      ]
     },
     "execution_count": 17,
     "metadata": {},
     "output_type": "execute_result"
    }
   ],
   "source": [
    "route[0]"
   ]
  },
  {
   "cell_type": "code",
   "execution_count": 38,
   "metadata": {},
   "outputs": [],
   "source": [
    "fileptr = open('../dataset/airlines_IATA.json',encoding='utf-8')\n",
    "airlines = json.loads(fileptr.read())\n",
    "fileptr = open('../dataset/airports_IATA.json',encoding='utf-8')\n",
    "airports = json.loads(fileptr.read())\n"
   ]
  },
  {
   "cell_type": "code",
   "execution_count": 59,
   "metadata": {},
   "outputs": [],
   "source": [
    "airline = airlines[route[0]['callsign'][:3]]\n",
    "departure = airports[route[0]['estDepartureAirport']]\n",
    "arrival = airports[route[0]['estArrivalAirport']]\n",
    "routes = {}"
   ]
  },
  {
   "cell_type": "code",
   "execution_count": 73,
   "metadata": {},
   "outputs": [],
   "source": [
    "for i in range(len(route)):\n",
    "    if route[i]['callsign'][:3] in airlines:\n",
    "        airline =airlines[route[i]['callsign'][:3]]\n",
    "        routes[route[i]['icao24']] = {\n",
    "                'airline' : {\n",
    "                    'name' : airline['name'],\n",
    "                    'callsign' : route[i]['callsign'],\n",
    "                    'country' : airline['country'],\n",
    "                    'iata' : route[i]['callsign'][:3]\n",
    "                },\n",
    "        'depature' : route[i]['estDepartureAirport'],\n",
    "        'arriaval' : route[i]['estArrivalAirport'],\n",
    "        'firstSeen' : route[i]['firstSeen']}"
   ]
  },
  {
   "cell_type": "code",
   "execution_count": 85,
   "metadata": {},
   "outputs": [
    {
     "name": "stdout",
     "output_type": "stream",
     "text": [
      "a96b80\n",
      "{'airline': {'name': 'Southern Air', 'callsign': 'SOO7930 ', 'country': 'United States', 'iata': 'SOO'}, 'depature': 'RKSI', 'arriaval': 'VHHH', 'firstSeen': 1592254082}\n"
     ]
    }
   ],
   "source": [
    "for j in routes:\n",
    "    print(j)\n",
    "    print(routes[j])\n",
    "    \n",
    "    break"
   ]
  },
  {
   "cell_type": "code",
   "execution_count": null,
   "metadata": {},
   "outputs": [],
   "source": []
  }
 ],
 "metadata": {
  "kernelspec": {
   "display_name": "Python 3",
   "language": "python",
   "name": "python3"
  },
  "language_info": {
   "codemirror_mode": {
    "name": "ipython",
    "version": 3
   },
   "file_extension": ".py",
   "mimetype": "text/x-python",
   "name": "python",
   "nbconvert_exporter": "python",
   "pygments_lexer": "ipython3",
   "version": "3.7.3"
  }
 },
 "nbformat": 4,
 "nbformat_minor": 2
}
