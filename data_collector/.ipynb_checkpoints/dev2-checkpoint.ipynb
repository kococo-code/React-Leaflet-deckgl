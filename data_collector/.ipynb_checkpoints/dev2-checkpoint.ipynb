{
 "cells": [
  {
   "cell_type": "code",
   "execution_count": 3,
   "metadata": {},
   "outputs": [],
   "source": [
    "import pandas as pd\n",
    "import requests"
   ]
  },
  {
   "cell_type": "code",
   "execution_count": 6,
   "metadata": {},
   "outputs": [],
   "source": [
    "airports = pd.read_csv('../dataset/IATA_code.csv')"
   ]
  },
  {
   "cell_type": "code",
   "execution_count": 1,
   "metadata": {},
   "outputs": [
    {
     "name": "stdout",
     "output_type": "stream",
     "text": [
      "[{\"cityId\":\"4d2d987d-b0f5-4cce-9096-55d6f9099d18\",\"name\":\"Los Angeles\",\"country\":\"US\",\"description\":null,\"icon\":null,\"location\":{\"longitude\":-118.406944,\"latitude\":33.9425},\"places\":[],\"airports\":[\"VNY\",\"LAX\",\"JID\",\"CCD\",\"SPQ\",\"WHP\"],\"images\":[]}]\n"
     ]
    }
   ],
   "source": [
    "url = \"https://cometari-airportsfinder-v1.p.rapidapi.com/api/cities/by-airports\"\n",
    "headers = {\n",
    "    'x-rapidapi-host': \"cometari-airportsfinder-v1.p.rapidapi.com\",\n",
    "    'x-rapidapi-key': \"nI4ULc1zVemshtAJPRAg38HMX11op1CylKpjsnN95SHekKzZ3n\"\n",
    "    }\n",
    "\n",
    "for code in airports['IATA']:\n",
    "\n",
    "    querystring = {\"code\": code}\n",
    "    response = requests.request(\"GET\", url, headers=headers, params=querystring)\n",
    "\n",
    "    print(response.text)"
   ]
  },
  {
   "cell_type": "code",
   "execution_count": 2,
   "metadata": {},
   "outputs": [
    {
     "data": {
      "text/plain": [
       "[{'cityId': '4d2d987d-b0f5-4cce-9096-55d6f9099d18',\n",
       "  'name': 'Los Angeles',\n",
       "  'country': 'US',\n",
       "  'description': None,\n",
       "  'icon': None,\n",
       "  'location': {'longitude': -118.406944, 'latitude': 33.9425},\n",
       "  'places': [],\n",
       "  'airports': ['VNY', 'LAX', 'JID', 'CCD', 'SPQ', 'WHP'],\n",
       "  'images': []}]"
      ]
     },
     "execution_count": 2,
     "metadata": {},
     "output_type": "execute_result"
    }
   ],
   "source": [
    "response.json()"
   ]
  },
  {
   "cell_type": "code",
   "execution_count": null,
   "metadata": {},
   "outputs": [],
   "source": []
  }
 ],
 "metadata": {
  "kernelspec": {
   "display_name": "Python 3",
   "language": "python",
   "name": "python3"
  },
  "language_info": {
   "codemirror_mode": {
    "name": "ipython",
    "version": 3
   },
   "file_extension": ".py",
   "mimetype": "text/x-python",
   "name": "python",
   "nbconvert_exporter": "python",
   "pygments_lexer": "ipython3",
   "version": "3.7.6"
  }
 },
 "nbformat": 4,
 "nbformat_minor": 4
}
